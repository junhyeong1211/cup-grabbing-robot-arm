{
  "nbformat": 4,
  "nbformat_minor": 0,
  "metadata": {
    "colab": {
      "provenance": [],
      "authorship_tag": "ABX9TyNezOF2CCU3gz00Jh4h5tnT"
    },
    "kernelspec": {
      "name": "python3",
      "display_name": "Python 3"
    },
    "language_info": {
      "name": "python"
    }
  },
  "cells": [
    {
      "cell_type": "code",
      "execution_count": null,
      "metadata": {
        "colab": {
          "base_uri": "https://localhost:8080/"
        },
        "id": "Z_zv_ygKTLb5",
        "outputId": "393b4d8d-6224-4aa7-828b-1ad3f9d83d72"
      },
      "outputs": [
        {
          "output_type": "stream",
          "name": "stdout",
          "text": [
            "Requirement already satisfied: gymnasium in /usr/local/lib/python3.12/dist-packages (1.2.1)\n",
            "Requirement already satisfied: numpy>=1.21.0 in /usr/local/lib/python3.12/dist-packages (from gymnasium) (2.0.2)\n",
            "Requirement already satisfied: cloudpickle>=1.2.0 in /usr/local/lib/python3.12/dist-packages (from gymnasium) (3.1.1)\n",
            "Requirement already satisfied: typing-extensions>=4.3.0 in /usr/local/lib/python3.12/dist-packages (from gymnasium) (4.15.0)\n",
            "Requirement already satisfied: farama-notifications>=0.0.1 in /usr/local/lib/python3.12/dist-packages (from gymnasium) (0.0.4)\n"
          ]
        }
      ],
      "source": [
        "!pip install gymnasium"
      ]
    },
    {
      "cell_type": "code",
      "source": [
        "import gymnasium as gym\n",
        "import time\n",
        "\n",
        "# 1. '카트폴'이라는 이름의 환경 만들기\n",
        "env = gym.make(\"CartPole-v1\", render_mode=\"rgb_array\")\n",
        "\n",
        "# 2. 환경을 맨 처음 상태로 초기화하기\n",
        "observation, info = env.reset()\n",
        "\n",
        "# 3. 100번 동안 반복하기\n",
        "for _ in range(100):\n",
        "    # 4. 어떤 행동을 할지 '랜덤'으로 고르기\n",
        "    action = env.action_space.sample()\n",
        "\n",
        "    # 5. 행동을 실행하고, 그 결과(다음 상태, 보상 등)를 받기\n",
        "    observation, reward, terminated, truncated, info = env.step(action)\n",
        "\n",
        "    # 6. 만약 막대가 쓰러졌거나(terminated) 너무 오래 걸리면(truncated) 게임 끝!\n",
        "    if terminated or truncated:\n",
        "        print(\"게임 오버! 환경을 다시 초기화합니다.\")\n",
        "        observation, info = env.reset()\n",
        "\n",
        "    # Colab에서 화면을 보기 위한 코드\n",
        "    from IPython.display import clear_output\n",
        "    import matplotlib.pyplot as plt\n",
        "    clear_output(wait=True)\n",
        "    plt.imshow(env.render())\n",
        "    plt.show()\n",
        "    time.sleep(1)\n",
        "\n",
        "# 7. 환경 닫기\n",
        "env.close()"
      ],
      "metadata": {
        "colab": {
          "base_uri": "https://localhost:8080/",
          "height": 396
        },
        "id": "iYfm8ZALTZFD",
        "outputId": "a65456f4-b6ce-4bbd-c020-3a8b138e4f39"
      },
      "execution_count": null,
      "outputs": [
        {
          "output_type": "display_data",
          "data": {
            "text/plain": [
              "<Figure size 640x480 with 1 Axes>"
            ],
            "image/png": "[encoded data removed]"
          },
          "metadata": {}
        }
      ]
    },
    {
      "cell_type": "code",
      "source": [],
      "metadata": {
        "id": "04NwrbT6TxtJ"
      },
      "execution_count": null,
      "outputs": []
    }
  ]
}